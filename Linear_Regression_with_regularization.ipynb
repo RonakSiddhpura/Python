{
  "nbformat": 4,
  "nbformat_minor": 0,
  "metadata": {
    "colab": {
      "provenance": []
    },
    "kernelspec": {
      "name": "python3",
      "display_name": "Python 3"
    },
    "language_info": {
      "name": "python"
    }
  },
  "cells": [
    {
      "cell_type": "markdown",
      "source": [
        "Name & Roll no. :- Shubh Ranpara, 21BCE248\n",
        "\n",
        "Subject & Course code :- ML, 2CS501\n",
        "\n",
        "Date : 28/08/2023"
      ],
      "metadata": {
        "id": "_oqm2r3XV0Ay"
      }
    },
    {
      "cell_type": "markdown",
      "source": [
        "# Practical 4\n",
        "Linear Regression with Regularization (without using sklearn or equivalent library) and Simple and Multiple Linear Regression with and without regularization using Sklearn"
      ],
      "metadata": {
        "id": "Y2WMCNq4V7Pl"
      }
    },
    {
      "cell_type": "markdown",
      "source": [
        "- Importing libraries"
      ],
      "metadata": {
        "id": "obwHGKrslKRH"
      }
    },
    {
      "cell_type": "code",
      "source": [
        "import numpy as np\n",
        "import pandas as pd\n",
        "import matplotlib.pyplot as plt"
      ],
      "metadata": {
        "id": "aGyyzFNclIld"
      },
      "execution_count": 1,
      "outputs": []
    },
    {
      "cell_type": "markdown",
      "source": [
        "- Uploading the dataset"
      ],
      "metadata": {
        "id": "WIx71vHPlRhO"
      }
    },
    {
      "cell_type": "code",
      "source": [
        "from google.colab import files\n",
        "uploaded = files.upload()"
      ],
      "metadata": {
        "colab": {
          "base_uri": "https://localhost:8080/",
          "height": 73
        },
        "id": "4SvsybGolUIS",
        "outputId": "0608815e-6ed7-4792-af94-e28e46bbb266"
      },
      "execution_count": 2,
      "outputs": [
        {
          "output_type": "display_data",
          "data": {
            "text/plain": [
              "<IPython.core.display.HTML object>"
            ],
            "text/html": [
              "\n",
              "     <input type=\"file\" id=\"files-58f3f429-19ca-45d6-871f-dbad77254a4c\" name=\"files[]\" multiple disabled\n",
              "        style=\"border:none\" />\n",
              "     <output id=\"result-58f3f429-19ca-45d6-871f-dbad77254a4c\">\n",
              "      Upload widget is only available when the cell has been executed in the\n",
              "      current browser session. Please rerun this cell to enable.\n",
              "      </output>\n",
              "      <script>// Copyright 2017 Google LLC\n",
              "//\n",
              "// Licensed under the Apache License, Version 2.0 (the \"License\");\n",
              "// you may not use this file except in compliance with the License.\n",
              "// You may obtain a copy of the License at\n",
              "//\n",
              "//      http://www.apache.org/licenses/LICENSE-2.0\n",
              "//\n",
              "// Unless required by applicable law or agreed to in writing, software\n",
              "// distributed under the License is distributed on an \"AS IS\" BASIS,\n",
              "// WITHOUT WARRANTIES OR CONDITIONS OF ANY KIND, either express or implied.\n",
              "// See the License for the specific language governing permissions and\n",
              "// limitations under the License.\n",
              "\n",
              "/**\n",
              " * @fileoverview Helpers for google.colab Python module.\n",
              " */\n",
              "(function(scope) {\n",
              "function span(text, styleAttributes = {}) {\n",
              "  const element = document.createElement('span');\n",
              "  element.textContent = text;\n",
              "  for (const key of Object.keys(styleAttributes)) {\n",
              "    element.style[key] = styleAttributes[key];\n",
              "  }\n",
              "  return element;\n",
              "}\n",
              "\n",
              "// Max number of bytes which will be uploaded at a time.\n",
              "const MAX_PAYLOAD_SIZE = 100 * 1024;\n",
              "\n",
              "function _uploadFiles(inputId, outputId) {\n",
              "  const steps = uploadFilesStep(inputId, outputId);\n",
              "  const outputElement = document.getElementById(outputId);\n",
              "  // Cache steps on the outputElement to make it available for the next call\n",
              "  // to uploadFilesContinue from Python.\n",
              "  outputElement.steps = steps;\n",
              "\n",
              "  return _uploadFilesContinue(outputId);\n",
              "}\n",
              "\n",
              "// This is roughly an async generator (not supported in the browser yet),\n",
              "// where there are multiple asynchronous steps and the Python side is going\n",
              "// to poll for completion of each step.\n",
              "// This uses a Promise to block the python side on completion of each step,\n",
              "// then passes the result of the previous step as the input to the next step.\n",
              "function _uploadFilesContinue(outputId) {\n",
              "  const outputElement = document.getElementById(outputId);\n",
              "  const steps = outputElement.steps;\n",
              "\n",
              "  const next = steps.next(outputElement.lastPromiseValue);\n",
              "  return Promise.resolve(next.value.promise).then((value) => {\n",
              "    // Cache the last promise value to make it available to the next\n",
              "    // step of the generator.\n",
              "    outputElement.lastPromiseValue = value;\n",
              "    return next.value.response;\n",
              "  });\n",
              "}\n",
              "\n",
              "/**\n",
              " * Generator function which is called between each async step of the upload\n",
              " * process.\n",
              " * @param {string} inputId Element ID of the input file picker element.\n",
              " * @param {string} outputId Element ID of the output display.\n",
              " * @return {!Iterable<!Object>} Iterable of next steps.\n",
              " */\n",
              "function* uploadFilesStep(inputId, outputId) {\n",
              "  const inputElement = document.getElementById(inputId);\n",
              "  inputElement.disabled = false;\n",
              "\n",
              "  const outputElement = document.getElementById(outputId);\n",
              "  outputElement.innerHTML = '';\n",
              "\n",
              "  const pickedPromise = new Promise((resolve) => {\n",
              "    inputElement.addEventListener('change', (e) => {\n",
              "      resolve(e.target.files);\n",
              "    });\n",
              "  });\n",
              "\n",
              "  const cancel = document.createElement('button');\n",
              "  inputElement.parentElement.appendChild(cancel);\n",
              "  cancel.textContent = 'Cancel upload';\n",
              "  const cancelPromise = new Promise((resolve) => {\n",
              "    cancel.onclick = () => {\n",
              "      resolve(null);\n",
              "    };\n",
              "  });\n",
              "\n",
              "  // Wait for the user to pick the files.\n",
              "  const files = yield {\n",
              "    promise: Promise.race([pickedPromise, cancelPromise]),\n",
              "    response: {\n",
              "      action: 'starting',\n",
              "    }\n",
              "  };\n",
              "\n",
              "  cancel.remove();\n",
              "\n",
              "  // Disable the input element since further picks are not allowed.\n",
              "  inputElement.disabled = true;\n",
              "\n",
              "  if (!files) {\n",
              "    return {\n",
              "      response: {\n",
              "        action: 'complete',\n",
              "      }\n",
              "    };\n",
              "  }\n",
              "\n",
              "  for (const file of files) {\n",
              "    const li = document.createElement('li');\n",
              "    li.append(span(file.name, {fontWeight: 'bold'}));\n",
              "    li.append(span(\n",
              "        `(${file.type || 'n/a'}) - ${file.size} bytes, ` +\n",
              "        `last modified: ${\n",
              "            file.lastModifiedDate ? file.lastModifiedDate.toLocaleDateString() :\n",
              "                                    'n/a'} - `));\n",
              "    const percent = span('0% done');\n",
              "    li.appendChild(percent);\n",
              "\n",
              "    outputElement.appendChild(li);\n",
              "\n",
              "    const fileDataPromise = new Promise((resolve) => {\n",
              "      const reader = new FileReader();\n",
              "      reader.onload = (e) => {\n",
              "        resolve(e.target.result);\n",
              "      };\n",
              "      reader.readAsArrayBuffer(file);\n",
              "    });\n",
              "    // Wait for the data to be ready.\n",
              "    let fileData = yield {\n",
              "      promise: fileDataPromise,\n",
              "      response: {\n",
              "        action: 'continue',\n",
              "      }\n",
              "    };\n",
              "\n",
              "    // Use a chunked sending to avoid message size limits. See b/62115660.\n",
              "    let position = 0;\n",
              "    do {\n",
              "      const length = Math.min(fileData.byteLength - position, MAX_PAYLOAD_SIZE);\n",
              "      const chunk = new Uint8Array(fileData, position, length);\n",
              "      position += length;\n",
              "\n",
              "      const base64 = btoa(String.fromCharCode.apply(null, chunk));\n",
              "      yield {\n",
              "        response: {\n",
              "          action: 'append',\n",
              "          file: file.name,\n",
              "          data: base64,\n",
              "        },\n",
              "      };\n",
              "\n",
              "      let percentDone = fileData.byteLength === 0 ?\n",
              "          100 :\n",
              "          Math.round((position / fileData.byteLength) * 100);\n",
              "      percent.textContent = `${percentDone}% done`;\n",
              "\n",
              "    } while (position < fileData.byteLength);\n",
              "  }\n",
              "\n",
              "  // All done.\n",
              "  yield {\n",
              "    response: {\n",
              "      action: 'complete',\n",
              "    }\n",
              "  };\n",
              "}\n",
              "\n",
              "scope.google = scope.google || {};\n",
              "scope.google.colab = scope.google.colab || {};\n",
              "scope.google.colab._files = {\n",
              "  _uploadFiles,\n",
              "  _uploadFilesContinue,\n",
              "};\n",
              "})(self);\n",
              "</script> "
            ]
          },
          "metadata": {}
        },
        {
          "output_type": "stream",
          "name": "stdout",
          "text": [
            "Saving BostonHousing.csv to BostonHousing.csv\n"
          ]
        }
      ]
    },
    {
      "cell_type": "markdown",
      "source": [
        "# Practical 4 A :"
      ],
      "metadata": {
        "id": "ScHR9K3dWDo-"
      }
    },
    {
      "cell_type": "markdown",
      "source": [
        "Practical 4 A - I : Simple Linear Regression with Regularization (without using sklearn or equivalent library)"
      ],
      "metadata": {
        "id": "-AqiaDuIjNiC"
      }
    },
    {
      "cell_type": "code",
      "source": [
        "data = pd.read_csv('BostonHousing.csv')\n",
        "\n",
        "X = data['zn'].values\n",
        "y = data['medv'].values\n",
        "\n",
        "# Normalize features\n",
        "X = (X - X.mean()) / X.std()\n",
        "\n",
        "def regularized_linear_regression(X, y, lambda_, learning_rate=0.000001, epochs=1000):\n",
        "    n = len(X)\n",
        "    theta = np.random.randn(2) # Initialize theta with random values\n",
        "\n",
        "    for _ in range(epochs):\n",
        "        y_pred = np.dot(X, theta[1]) + theta[0]\n",
        "        gradient_intercept = np.sum(y_pred - y) + lambda_ * theta[0]\n",
        "        gradient_coef = np.dot(X, y_pred - y) + lambda_ * theta[1]\n",
        "\n",
        "        theta[0] -= learning_rate * gradient_intercept\n",
        "        theta[1] -= learning_rate * gradient_coef\n",
        "\n",
        "    return theta\n",
        "\n",
        "lambda_ = 0.1\n",
        "theta_regularized = regularized_linear_regression(X, y, lambda_)\n",
        "\n",
        "print(\"Theta:\", theta_regularized)"
      ],
      "metadata": {
        "colab": {
          "base_uri": "https://localhost:8080/"
        },
        "id": "CyYlEKpwkhi6",
        "outputId": "dfc195fa-177b-44a2-dd58-f4ef1c5497cd"
      },
      "execution_count": 3,
      "outputs": [
        {
          "output_type": "stream",
          "name": "stdout",
          "text": [
            "Theta: [9.29997133 1.44926785]\n"
          ]
        }
      ]
    },
    {
      "cell_type": "markdown",
      "source": [
        "Practical 4 A - II : Multiple Linear Regression with Regularization (without using sklearn or equivalent library)"
      ],
      "metadata": {
        "id": "N_9LrlagjSy8"
      }
    },
    {
      "cell_type": "markdown",
      "source": [
        "- Importing libraries and datasets"
      ],
      "metadata": {
        "id": "9gx7C1NIXBS7"
      }
    },
    {
      "cell_type": "code",
      "source": [
        "# Load the dataset\n",
        "data = pd.read_csv('BostonHousing.csv')\n",
        "\n",
        "# Extract features and target\n",
        "X = data.drop(columns=['medv']).values\n",
        "y = data['medv'].values\n",
        "\n",
        "# Normalize features\n",
        "X = (X - X.mean(axis=0)) / X.std(axis=0)\n",
        "\n",
        "def regularized_linear_regression_multi(X, y, lambda_, learning_rate=0.000001, epochs=1000):\n",
        "    n_samples, n_features = X.shape\n",
        "    theta = np.random.randn(n_features + 1)  # Initialize theta with random values\n",
        "\n",
        "    X_bias = np.column_stack((np.ones(n_samples), X))\n",
        "\n",
        "    for _ in range(epochs):\n",
        "        y_pred = np.dot(X_bias, theta)\n",
        "        gradient = (1/n_samples) * (np.dot(X_bias.T, y_pred - y) + lambda_ * theta)\n",
        "\n",
        "        theta -= learning_rate * gradient\n",
        "\n",
        "    return theta\n",
        "\n",
        "lambda_ = 0.1\n",
        "theta_regularized_multi = regularized_linear_regression_multi(X, y, lambda_)\n",
        "\n",
        "print(\"Theta:\", theta_regularized_multi)"
      ],
      "metadata": {
        "id": "M5WYonmAXAtz",
        "colab": {
          "base_uri": "https://localhost:8080/"
        },
        "outputId": "04bef55c-2bb0-4aee-c953-08da53213b50"
      },
      "execution_count": 4,
      "outputs": [
        {
          "output_type": "stream",
          "name": "stdout",
          "text": [
            "Theta: [-0.55469086 -0.50828507 -0.20976675 -0.77123069  0.90635742  1.41639498\n",
            " -0.44488768 -0.33676942 -1.15666371  0.59940271  1.93062886 -0.4969279\n",
            "  1.48571395 -0.30783428]\n"
          ]
        }
      ]
    },
    {
      "cell_type": "markdown",
      "source": [
        "- Implementing linear regression with regularization"
      ],
      "metadata": {
        "id": "knlTk7_Pllsg"
      }
    },
    {
      "cell_type": "markdown",
      "source": [
        "# Practical 4 B :\n",
        "Simple and Multiple Linear Regression with and without regularization using Sklearn"
      ],
      "metadata": {
        "id": "PPlFehJnWuAF"
      }
    },
    {
      "cell_type": "markdown",
      "source": [
        "Practical 4 B - I : Simple Linear Regression without Regularization (using sklearn)"
      ],
      "metadata": {
        "id": "8GK3JPWqjaGa"
      }
    },
    {
      "cell_type": "code",
      "source": [
        "from sklearn.linear_model import LinearRegression\n",
        "\n",
        "# Load the dataset\n",
        "data = pd.read_csv('BostonHousing.csv')\n",
        "\n",
        "# Extract features and target\n",
        "X = data[['zn']].values\n",
        "y = data['medv'].values\n",
        "\n",
        "# Normalize features\n",
        "X = (X - X.mean()) / X.std()\n",
        "\n",
        "linear_model = LinearRegression()\n",
        "linear_model.fit(X, y)\n",
        "\n",
        "print(\"Theta (Coef):\", linear_model.coef_)\n",
        "print(\"Theta (Intercept):\", linear_model.intercept_)"
      ],
      "metadata": {
        "id": "bZougsWjkLBV",
        "colab": {
          "base_uri": "https://localhost:8080/"
        },
        "outputId": "42862c3a-e2de-4362-fd3a-63b5d5048aae"
      },
      "execution_count": 5,
      "outputs": [
        {
          "output_type": "stream",
          "name": "stdout",
          "text": [
            "Theta (Coef): [3.31177597]\n",
            "Theta (Intercept): 22.532806324110677\n"
          ]
        }
      ]
    },
    {
      "cell_type": "markdown",
      "source": [
        "Practical 4 B - II : Multiple Linear Regression without Regularization (using sklearn)"
      ],
      "metadata": {
        "id": "WX-g9gCHjceh"
      }
    },
    {
      "cell_type": "code",
      "source": [
        "from sklearn.linear_model import LinearRegression\n",
        "\n",
        "# Load the dataset\n",
        "data = pd.read_csv('BostonHousing.csv')\n",
        "\n",
        "# Extract features and target\n",
        "X = data.drop(columns=['medv']).values\n",
        "y = data['medv'].values\n",
        "\n",
        "# Normalize features\n",
        "X = (X - X.mean(axis=0)) / X.std(axis=0)\n",
        "\n",
        "linear_model_multi = LinearRegression()\n",
        "linear_model_multi.fit(X, y)\n",
        "\n",
        "print(\"Theta (Coefs):\", linear_model_multi.coef_)\n",
        "print(\"Theta (Intercept):\", linear_model_multi.intercept_)"
      ],
      "metadata": {
        "id": "8scdWbI9kKsL",
        "colab": {
          "base_uri": "https://localhost:8080/"
        },
        "outputId": "919042c2-ea53-44a8-93d5-5d0f199d6eb7"
      },
      "execution_count": 6,
      "outputs": [
        {
          "output_type": "stream",
          "name": "stdout",
          "text": [
            "Theta (Coefs): [-0.92814606  1.08156863  0.1409      0.68173972 -2.05671827  2.67423017\n",
            "  0.01946607 -3.10404426  2.66221764 -2.07678168 -2.06060666  0.84926842\n",
            " -3.74362713]\n",
            "Theta (Intercept): 22.532806324110677\n"
          ]
        }
      ]
    },
    {
      "cell_type": "markdown",
      "source": [
        "Practical 4 B - III : Simple Linear Regression with Regularization (using sklearn)"
      ],
      "metadata": {
        "id": "V3p-Yx2Cjckz"
      }
    },
    {
      "cell_type": "code",
      "source": [
        "from sklearn.linear_model import Ridge\n",
        "\n",
        "# Load the dataset\n",
        "data = pd.read_csv('BostonHousing.csv')\n",
        "\n",
        "# Extract features and target\n",
        "X = data[['zn']].values\n",
        "y = data['medv'].values\n",
        "\n",
        "# Normalize features\n",
        "X = (X - X.mean()) / X.std()\n",
        "\n",
        "lambda_ = 0.1\n",
        "ridge_model = Ridge(alpha=lambda_)\n",
        "ridge_model.fit(X, y)\n",
        "\n",
        "print(\"Theta (Coef):\", ridge_model.coef_)\n",
        "print(\"Theta (Intercept):\", ridge_model.intercept_)"
      ],
      "metadata": {
        "id": "wCytjWCIkKQ2",
        "colab": {
          "base_uri": "https://localhost:8080/"
        },
        "outputId": "c1e87eb2-1ef7-4fde-f2a3-388a284071e4"
      },
      "execution_count": 7,
      "outputs": [
        {
          "output_type": "stream",
          "name": "stdout",
          "text": [
            "Theta (Coef): [3.3111216]\n",
            "Theta (Intercept): 22.532806324110677\n"
          ]
        }
      ]
    },
    {
      "cell_type": "markdown",
      "source": [
        "Practical 4 B - IV : Multiple Linear Regression with Regularization (using sklearn)"
      ],
      "metadata": {
        "id": "m06J5q_2jcq2"
      }
    },
    {
      "cell_type": "code",
      "source": [
        "from sklearn.linear_model import Ridge\n",
        "\n",
        "# Load the dataset\n",
        "data = pd.read_csv('BostonHousing.csv')\n",
        "\n",
        "# Extract features and target\n",
        "X = data.drop(columns=['medv']).values\n",
        "y = data['medv'].values\n",
        "\n",
        "# Normalize features\n",
        "X = (X - X.mean(axis=0)) / X.std(axis=0)\n",
        "\n",
        "lambda_ = 0.1\n",
        "ridge_model_multi = Ridge(alpha=lambda_)\n",
        "ridge_model_multi.fit(X, y)\n",
        "\n",
        "print(\"Theta (Coefs):\", ridge_model_multi.coef_)\n",
        "print(\"Theta (Intercept):\", ridge_model_multi.intercept_)"
      ],
      "metadata": {
        "id": "7poMs1l9kHfZ",
        "colab": {
          "base_uri": "https://localhost:8080/"
        },
        "outputId": "e793bc44-6275-427e-d3a8-74593f4d7567"
      },
      "execution_count": 8,
      "outputs": [
        {
          "output_type": "stream",
          "name": "stdout",
          "text": [
            "Theta (Coefs): [-0.92730143  1.08002721  0.13847891  0.68208866 -2.05390876  2.67510351\n",
            "  0.01882112 -3.10135271  2.65496439 -2.06996096 -2.05977302  0.84922666\n",
            " -3.74231919]\n",
            "Theta (Intercept): 22.532806324110677\n"
          ]
        }
      ]
    }
  ]
}